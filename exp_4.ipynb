{
  "nbformat": 4,
  "nbformat_minor": 0,
  "metadata": {
    "colab": {
      "provenance": []
    },
    "kernelspec": {
      "name": "python3",
      "display_name": "Python 3"
    },
    "language_info": {
      "name": "python"
    }
  },
  "cells": [
    {
      "cell_type": "code",
      "execution_count": 13,
      "metadata": {
        "colab": {
          "base_uri": "https://localhost:8080/"
        },
        "id": "RM4B2CbRi64r",
        "outputId": "b6eaf48d-8950-440a-ce52-49c10cb6b339"
      },
      "outputs": [
        {
          "output_type": "stream",
          "name": "stdout",
          "text": [
            "State Values:\n",
            "[[0. 0. 0.]\n",
            " [0. 0. 0.]\n",
            " [0. 0. 0.]]\n"
          ]
        }
      ],
      "source": [
        "import numpy as np\n",
        "\n",
        "# Define the grid world\n",
        "grid_world = np.zeros((3, 3))\n",
        "\n",
        "# Define the state transition function (up, down, left, right)\n",
        "actions = [(0, -1), (0, 1), (-1, 0), (1, 0)]\n",
        "\n",
        "# Define the reward for each state\n",
        "rewards = {\n",
        "    (0, 2): 10,  # Goal state\n",
        "    (1, 2): -10,  # Penalty state\n",
        "}\n",
        "\n",
        "# Define the discount factor\n",
        "gamma = 0.9\n",
        "\n",
        "# Perform the Bellman update for state values\n",
        "num_iterations = 100\n",
        "for _ in range(num_iterations):\n",
        "    new_grid_world = np.copy(grid_world)\n",
        "    for i in range(3):\n",
        "        for j in range(3):\n",
        "            if (i, j) not in rewards:\n",
        "                new_values = []\n",
        "                for action in actions:\n",
        "                    next_i, next_j = i + action[0], j + action[1]\n",
        "                    if 0 <= next_i < 3 and 0 <= next_j < 3:\n",
        "                        new_values.append(grid_world[next_i, next_j])\n",
        "                if new_values:\n",
        "                    new_grid_world[i, j] = max(new_values) * gamma\n",
        "    grid_world = new_grid_world\n",
        "\n",
        "# Print the final state values\n",
        "print(\"State Values:\")\n",
        "print(grid_world)\n",
        "\n",
        "\n"
      ]
    }
  ]
}