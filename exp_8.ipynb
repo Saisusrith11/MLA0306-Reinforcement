{
  "nbformat": 4,
  "nbformat_minor": 0,
  "metadata": {
    "colab": {
      "provenance": []
    },
    "kernelspec": {
      "name": "python3",
      "display_name": "Python 3"
    },
    "language_info": {
      "name": "python"
    }
  },
  "cells": [
    {
      "cell_type": "code",
      "execution_count": 4,
      "metadata": {
        "colab": {
          "base_uri": "https://localhost:8080/"
        },
        "id": "GlPnTMNlvgKW",
        "outputId": "d00ca858-dec8-41f9-d190-69addf080472"
      },
      "outputs": [
        {
          "output_type": "stream",
          "name": "stdout",
          "text": [
            "State Values with Exploration:\n",
            "[[1.94459989 2.19681541 2.45255742 2.74048451]\n",
            " [1.88179924 2.36058139 2.67273974 3.06122428]\n",
            " [0.17991738 1.43724487 2.99064766 3.37117275]\n",
            " [0.         1.01272467 3.23429716 3.97312266]\n",
            " [0.28393219 1.83174748 3.9594004  4.466974  ]\n",
            " [0.17293692 3.76247929 4.51597097 4.10190542]]\n"
          ]
        }
      ],
      "source": [
        "import numpy as np\n",
        "import random\n",
        "\n",
        "# Define the grid world\n",
        "n_rows, n_cols = 6, 4\n",
        "\n",
        "# Define actions (up, down, left, right)\n",
        "actions = [(0, 1), (0, -1), (1, 0), (-1, 0)]\n",
        "\n",
        "# Define exploration probability (ε)\n",
        "epsilon = 0.2\n",
        "\n",
        "# Initialize the state values\n",
        "state_values = np.zeros((n_rows, n_cols))\n",
        "\n",
        "# Function to check if a state is within the grid boundaries\n",
        "def within_bounds(state):\n",
        "    row, col = state\n",
        "    return 0 <= row < n_rows and 0 <= col < n_cols\n",
        "\n",
        "# Function to choose an action using ε-greedy strategy\n",
        "def choose_action(state):\n",
        "    if random.uniform(0, 1) < epsilon:\n",
        "        # Exploration: Choose a random action\n",
        "        return random.choice(range(len(actions)))\n",
        "    else:\n",
        "        valid_actions = []\n",
        "        for a in actions:\n",
        "            next_state = (state[0] + a[0], state[1] + a[1])\n",
        "            if within_bounds(next_state):\n",
        "                valid_actions.append(state_values[next_state])\n",
        "            else:\n",
        "                valid_actions.append(float('-inf'))  # Assign negative infinity to invalid actions\n",
        "        return np.argmax(valid_actions)\n",
        "\n",
        "# Learning loop (Q-learning with temporal difference)\n",
        "num_episodes = 1000\n",
        "\n",
        "for _ in range(num_episodes):\n",
        "    current_state = (0, 0)\n",
        "\n",
        "    while True:\n",
        "        action = choose_action(current_state)\n",
        "        move = actions[action]\n",
        "        next_state = (current_state[0] + move[0], current_state[1] + move[1])\n",
        "\n",
        "        # Simulated reward function (example)\n",
        "        if next_state == (5, 3):\n",
        "            reward = 1\n",
        "        else:\n",
        "            reward = 0\n",
        "\n",
        "        if within_bounds(next_state):\n",
        "            # Update the state value using Q-learning (temporal difference)\n",
        "            state_values[current_state] += 0.1 * (\n",
        "                reward + 0.9 * state_values[next_state] - state_values[current_state]\n",
        "            )\n",
        "\n",
        "            current_state = next_state\n",
        "        else:\n",
        "            break  # Break the loop if the next state is out of bounds\n",
        "\n",
        "# Display the state values with exploration\n",
        "print(\"State Values with Exploration:\")\n",
        "print(state_values)\n"
      ]
    }
  ]
}