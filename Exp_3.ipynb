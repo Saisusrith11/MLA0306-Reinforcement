{
  "nbformat": 4,
  "nbformat_minor": 0,
  "metadata": {
    "colab": {
      "provenance": []
    },
    "kernelspec": {
      "name": "python3",
      "display_name": "Python 3"
    },
    "language_info": {
      "name": "python"
    }
  },
  "cells": [
    {
      "cell_type": "code",
      "execution_count": 10,
      "metadata": {
        "colab": {
          "base_uri": "https://localhost:8080/"
        },
        "id": "RM4B2CbRi64r",
        "outputId": "876309f4-2f55-4d10-96ce-107798b88b68"
      },
      "outputs": [
        {
          "output_type": "stream",
          "name": "stdout",
          "text": [
            "Current State: (0, 0), Action: {'Right': 0.8, 'Down': 0.2}, Next State: (0, 1)\n",
            "Current State: (0, 1), Action: {'Down': 0.6, 'Left': 0.3, 'Right': 0.1}, Next State: (1, 1)\n",
            "Current State: (1, 1), Action: {'Up': 1.0}, Next State: (0, 1)\n",
            "Current State: (0, 1), Action: {'Down': 0.6, 'Left': 0.3, 'Right': 0.1}, Next State: (1, 1)\n"
          ]
        }
      ],
      "source": [
        "# Define states and actions\n",
        "states = [(0, 0), (0, 1), (1, 0), (1, 1)]\n",
        "actions = {'Up': (-1, 0), 'Down': (1, 0), 'Left': (0, -1), 'Right': (0, 1)}\n",
        "\n",
        "# Define a deterministic policy (for each state, specify the action to take)\n",
        "policy = {\n",
        "    (0, 0): {'Right': 0.8, 'Down': 0.2},\n",
        "    (0, 1): {'Down': 0.6, 'Left': 0.3, 'Right': 0.1},\n",
        "    (1, 0): {'Right': 0.7, 'Up': 0.3},\n",
        "    (1, 1): {'Up': 1.0}\n",
        "}\n",
        "\n",
        "\n",
        "# Function to get the next state based on the current state and action\n",
        "def get_next_state(state, action):\n",
        "    action_string = next(iter(action))  # Extract the action string from the dictionary\n",
        "    next_state = (state[0] + actions[action_string][0], state[1] + actions[action_string][1])\n",
        "    if next_state in states:\n",
        "        return next_state\n",
        "    return state\n",
        "\n",
        "# Function to determine the action the agent takes in a given state\n",
        "def get_action(state):\n",
        "    return policy[state]\n",
        "\n",
        "# Demonstrate how the functions work\n",
        "current_state = (0, 0)\n",
        "for _ in range(4):\n",
        "    action = get_action(current_state)\n",
        "    next_state = get_next_state(current_state, action)\n",
        "    print(f\"Current State: {current_state}, Action: {action}, Next State: {next_state}\")\n",
        "    current_state = next_state\n"
      ]
    }
  ]
}